{
  "nbformat": 4,
  "nbformat_minor": 0,
  "metadata": {
    "colab": {
      "provenance": []
    },
    "kernelspec": {
      "name": "python3",
      "display_name": "Python 3"
    },
    "language_info": {
      "name": "python"
    }
  },
  "cells": [
    {
      "cell_type": "code",
      "execution_count": 4,
      "metadata": {
        "id": "38GP5oVJoofY",
        "colab": {
          "base_uri": "https://localhost:8080/"
        },
        "outputId": "e33f65fd-b439-485c-e26c-6d2743fd0203"
      },
      "outputs": [
        {
          "output_type": "stream",
          "name": "stderr",
          "text": [
            "/tmp/ipython-input-4-2609786374.py:60: FutureWarning: Downcasting object dtype arrays on .fillna, .ffill, .bfill is deprecated and will change in a future version. Call result.infer_objects(copy=False) instead. To opt-in to the future behavior, set `pd.set_option('future.no_silent_downcasting', True)`\n",
            "  x_test.loc[:,i]=x_test[i].fillna(x_test[i].mean())\n"
          ]
        }
      ],
      "source": [
        "import pandas as pd\n",
        "df = pd.read_csv('train.csv')\n",
        "df=pd.DataFrame(df)\n",
        "from sklearn.model_selection import train_test_split\n",
        "from sklearn.preprocessing import LabelEncoder\n",
        "df.drop('PassengerId',axis=1,inplace=True)\n",
        "for i in range(len(df)):\n",
        "  if 'Mr' in df['Name'][i]:\n",
        "      df.loc[i,'Name']=0\n",
        "  elif 'Mrs' in df['Name'][i]:\n",
        "      df.loc[i,'Name']=1\n",
        "  elif 'Miss' in df['Name'][i]:\n",
        "      df.loc[i,'Name']=2\n",
        "  elif 'Ms' in df['Name'][i]:\n",
        "      df.loc[i,'Name']=3\n",
        "  else:\n",
        "      df.loc[i,'Name']=4\n",
        "le = LabelEncoder()\n",
        "df['Sex'] = le.fit_transform(df['Sex'])\n",
        "df['Ticket'] = le.fit_transform(df['Ticket'])\n",
        "df['Cabin']=df['Cabin'].fillna('0')\n",
        "df.drop('Cabin',axis=1,inplace=True)\n",
        "df['Age']=df['Age'].fillna(df['Age'].mean())\n",
        "df['Embarked'] = le.fit_transform(df['Embarked'])\n",
        "\n",
        "x_train=df.drop('Survived',axis=1)\n",
        "y_train=df['Survived']\n",
        "\n",
        "from sklearn.ensemble import GradientBoostingClassifier\n",
        "from sklearn.ensemble import RandomForestClassifier\n",
        "from sklearn.tree import DecisionTreeClassifier\n",
        "\n",
        "model=GradientBoostingClassifier()\n",
        "model.fit(x_train,y_train)\n",
        "df = pd.read_csv('test.csv')\n",
        "df=pd.DataFrame(df)\n",
        "kek = pd.DataFrame(df['PassengerId'])\n",
        "df.drop('PassengerId',axis=1,inplace=True)\n",
        "for i in range(len(df)):\n",
        "  if 'Mr' in df['Name'][i]:\n",
        "      df.loc[i,'Name']=0\n",
        "  elif 'Mrs' in df['Name'][i]:\n",
        "      df.loc[i,'Name']=1\n",
        "  elif 'Miss' in df['Name'][i]:\n",
        "      df.loc[i,'Name']=2\n",
        "  elif 'Ms' in df['Name'][i]:\n",
        "      df.loc[i,'Name']=3\n",
        "  else:\n",
        "      df.loc[i,'Name']=4\n",
        "le = LabelEncoder()\n",
        "df['Sex'] = le.fit_transform(df['Sex'])\n",
        "df['Ticket'] = le.fit_transform(df['Ticket'])\n",
        "df['Cabin']=df['Cabin'].fillna('0')\n",
        "df.drop('Cabin',axis=1,inplace=True)\n",
        "df['Age']=df['Age'].fillna(df['Age'].mean())\n",
        "df['Embarked'] = le.fit_transform(df['Embarked'])\n",
        "\n",
        "x_test=df\n",
        "for i in x_test:\n",
        "  x_test.loc[:,i]=x_test[i].fillna(x_test[i].mean())\n",
        "\n",
        "\n",
        "y_test=model.predict(x_test)\n",
        "y_test = pd.DataFrame({\n",
        "    'PassengerId': kek['PassengerId'],  # Extract Series from DataFrame\n",
        "    'Survived': y_test\n",
        "})\n",
        "y_test.to_csv('predictions.csv', index=False)  # index=False to avoid writing row numbers\n",
        "\n",
        "\n"
      ]
    }
  ]
}